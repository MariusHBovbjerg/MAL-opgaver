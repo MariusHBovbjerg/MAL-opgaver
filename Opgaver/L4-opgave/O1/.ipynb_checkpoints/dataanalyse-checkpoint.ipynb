{
 "cells": [
  {
   "cell_type": "markdown",
   "metadata": {},
   "source": [
    "#  SWMAL Opgave\n",
    "\n",
    "## Dataanalyse\n",
    "\n",
    "### Qa) Beskrivelse af datasæt til O4 projekt\n",
    "\n",
    "I kurset er slutprojektet et bærende element, som I forventes at arbejde på igennem hele kurset\n",
    "sidelÃ¸bende med de forskellige undervisningsemner. \n",
    "\n",
    "I skal selv vælge et O4 projekt så det anbefales at I vælger en problemstilling, hvor der allerede er data til rådighed og en god beskrivelse af data, dataopsamlingsmetode og problemstilling.\n",
    "\n",
    "I denne opgave skal I:\n",
    "\n",
    "* a) Give en kort konceptmæssig projektbeskrivelse af Jeres ide til O4 projekt. \n",
    "\n",
    "* b) Beskrive jeres valgte datasæt med en kort forklaring af baggrund og hvor I har fået data fra.\n",
    "\n",
    "* c) Beskrive dataâ€“dvs. hvilke features, antal samples, target værdier, evt. fejl/usikkerheder, etc.\n",
    "\n",
    "* d) Forklare hvordan I ønsker at anvende datasættet â€“ vil I fx. bruge det til at prædiktere noget\n",
    "bestemt, lave en regression eller klassifikation, el.lign. \n",
    "\n",
    "I vil nok komme til at anvende data ogsÃ¥ pÃ¥ andre mÃ¥der i lÃ¸bet af undervisningen â€“ men det behÃ¸ver I ikke nÃ¦vne. Og det er også ok, hvis I ender med at bruge data pÃ¥ en anden mÃ¥de end planlagt her.\n",
    "\n",
    "Omfang af beskrivelsen forventes at være 1-2 sider.\n",
    "\n",
    "Beskrivelse: \n",
    "\n",
    "\n",
    "\n",
    "### Qb) Dataanalyse af eget datasÃ¦t\n",
    "\n",
    "Lav data analyse pÃ¥ jeres egne data og projekt.\n",
    "\n",
    "Det indebÃ¦rer de sÃ¦dvanlige elementer sÃ¥som plotte histogrammer, middelvÃ¦rdi/median/spredning, analysere for outliers/korrupte data, forslag til skalering af data og lignende former for analyse af data.\n",
    "\n",
    "For nogle typer data (fx billed-data), hvor features ikke har en specifik betydning, er det mest\n",
    "histogrammer og lignende, som giver mening â€“ det er helt o.k. \n",
    "\n",
    "\n",
    "#### NOTE vdr. billeddatasÃ¦ts\n",
    "\n",
    "For billeddata fer hver pixel en feature, og alm. analyse beskrevet ovenfor giver ikke indsigt. PrÃ¸v i stedet for billeder at beskrive billedformater (JPEG, PNG osv. / RGB, HSV, grÃ¥tone, multispektral, etc.), stÃ¸rrelser af billeder, hvordan de er reprÃ¦senteret pÃ¥ disk (dirs osv.)\n",
    "\n",
    "Giv ogsÃ¥ eksempler pÃ¥ billeder og evt. labels i billedesÃ¦t.\n",
    "\n",
    "Histogrammer kan udfÃ¸res pÃ¥ enkelte billeder, men kun i forbindelse med labelede omrÃ¥der---og bedst pÃ¥ billesÃ¦t med ens baggrunde.\n",
    "\n",
    "Benytter i lyddata eller video gÃ¦lder de samme begrÃ¦nsinger som fÃ¥r billeder her.\n",
    "\n",
    "### NOTE vdr. valg af datasÃ¦t til O4\n",
    "\n",
    "I har frie hÃ¦nder til at vÃ¦lge O4 projekt og tilhÃ¸rende datasÃ¦t og valg af datasÃ¦t og ide til O4 her er ikke endelig. \n",
    "\n",
    "Dvs. at i lÃ¸bende kan modificere projektbeskrivelse og, evt. om nÃ¸dvendigt, vÃ¦lge et andet datasÃ¦t senere, hvis jeres nuvÃ¦rende valg viser sig umuligt (men er en dyr proces). \n",
    "\n",
    "Scope af O4 projekt bÃ¸r ogsÃ¥ begrÃ¦nses, sÃ¥ det passer til kurset og til den '_time-box_'ede aflevering."
   ]
  },
  {
   "cell_type": "markdown",
   "metadata": {},
   "source": [
    "REVISIONS||\n",
    "---------||\n",
    "2021-08-17| CEF, moved from Word to Notebook.\n",
    "2021-11-08| CEF, elaborated on image based data.\n",
    "2022-01-25| CEF, update to F22 SWMAL."
   ]
  }
 ],
 "metadata": {
  "kernelspec": {
   "display_name": "Python 3 (ipykernel)",
   "language": "python",
   "name": "python3"
  },
  "language_info": {
   "codemirror_mode": {
    "name": "ipython",
    "version": 3
   },
   "file_extension": ".py",
   "mimetype": "text/x-python",
   "name": "python",
   "nbconvert_exporter": "python",
   "pygments_lexer": "ipython3",
   "version": "3.9.7"
  },
  "varInspector": {
   "cols": {
    "lenName": 16,
    "lenType": 16,
    "lenVar": 40
   },
   "kernels_config": {
    "python": {
     "delete_cmd_postfix": "",
     "delete_cmd_prefix": "del ",
     "library": "var_list.py",
     "varRefreshCmd": "print(var_dic_list())"
    },
    "r": {
     "delete_cmd_postfix": ") ",
     "delete_cmd_prefix": "rm(",
     "library": "var_list.r",
     "varRefreshCmd": "cat(var_dic_list()) "
    }
   },
   "types_to_exclude": [
    "module",
    "function",
    "builtin_function_or_method",
    "instance",
    "_Feature"
   ],
   "window_display": true
  }
 },
 "nbformat": 4,
 "nbformat_minor": 2
}
