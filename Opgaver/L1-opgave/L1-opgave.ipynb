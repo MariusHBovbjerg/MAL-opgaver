{
 "cells": [
  {
   "cell_type": "markdown",
   "metadata": {},
   "source": [
    "# SWMAL Exercise\n",
    "\n",
    "## Intro\n",
    "\n",
    "\n",
    "We startup by reusing parts of `01_the_machine_learning_landscape.ipynb` from GÃ©ron [GITHOML]. So we begin with what GÃ©ron says about life satisfactions vs GDP per capita.\n",
    " \n",
    "Halfway down this notebook, a list of questions for SWMAL is presented."
   ]
  },
  {
   "cell_type": "markdown",
   "metadata": {},
   "source": [
    "## Chapter 1 â€“ The Machine Learning landscape\n",
    "\n",
    "_This is the code used to generate some of the figures in chapter 1._"
   ]
  },
  {
   "cell_type": "markdown",
   "metadata": {},
   "source": [
    "### Setup\n",
    "\n",
    "First, let's make sure this notebook works well in both python 2 and 3, import a few common modules, ensure MatplotLib plots figures inline and prepare a function to save the figures:"
   ]
  },
  {
   "cell_type": "code",
   "execution_count": 9,
   "metadata": {
    "slideshow": {
     "slide_type": "-"
    },
    "tags": []
   },
   "outputs": [
    {
     "name": "stdout",
     "output_type": "stream",
     "text": [
      "OK\n"
     ]
    }
   ],
   "source": [
    "# To support both python 2 and python 3\n",
    "from __future__ import division, print_function, unicode_literals\n",
    "\n",
    "# Common imports\n",
    "import numpy as np\n",
    "import os\n",
    "\n",
    "# to make this notebook's output stable across runs\n",
    "np.random.seed(42)\n",
    "\n",
    "# To plot pretty figures\n",
    "%matplotlib inline\n",
    "import matplotlib\n",
    "import matplotlib.pyplot as plt\n",
    "plt.rcParams['axes.labelsize'] = 14\n",
    "plt.rcParams['xtick.labelsize'] = 12\n",
    "plt.rcParams['ytick.labelsize'] = 12\n",
    "\n",
    "# Where to save the figures\n",
    "PROJECT_ROOT_DIR = \".\"\n",
    "CHAPTER_ID = \"fundamentals\"\n",
    "\n",
    "def save_fig(fig_id, tight_layout=True):\n",
    "    path = os.path.join(PROJECT_ROOT_DIR, \"images\", CHAPTER_ID, fig_id + \".png\")\n",
    "    print(\"IGNORING: Saving figure\", fig_id) # SWMAL: I've disabled saving of figures\n",
    "    #if tight_layout:\n",
    "    #    plt.tight_layout()\n",
    "    #plt.savefig(path, format='png', dpi=300)\n",
    "\n",
    "# Ignore useless warnings (see SciPy issue #5998)\n",
    "import warnings\n",
    "warnings.filterwarnings(action=\"ignore\", module=\"scipy\", message=\"^internal gelsd\")\n",
    "\n",
    "print(\"OK\")"
   ]
  },
  {
   "cell_type": "markdown",
   "metadata": {},
   "source": [
    "### Code example 1-1\n",
    "\n",
    "This function just merges the OECD's life satisfaction data and the IMF's GDP per capita data. It's a bit too long and boring and it's not specific to Machine Learning, which is why I left it out of the book."
   ]
  },
  {
   "cell_type": "code",
   "execution_count": 10,
   "metadata": {
    "tags": []
   },
   "outputs": [
    {
     "name": "stdout",
     "output_type": "stream",
     "text": [
      "OK\n"
     ]
    }
   ],
   "source": [
    "def prepare_country_stats(oecd_bli, gdp_per_capita):\n",
    "    oecd_bli = oecd_bli[oecd_bli[\"INEQUALITY\"]==\"TOT\"]\n",
    "    oecd_bli = oecd_bli.pivot(index=\"Country\", columns=\"Indicator\", values=\"Value\")\n",
    "    gdp_per_capita.rename(columns={\"2015\": \"GDP per capita\"}, inplace=True)\n",
    "    gdp_per_capita.set_index(\"Country\", inplace=True)\n",
    "    full_country_stats = pd.merge(left=oecd_bli, right=gdp_per_capita,\n",
    "                                  left_index=True, right_index=True)\n",
    "    full_country_stats.sort_values(by=\"GDP per capita\", inplace=True)\n",
    "    remove_indices = [0, 1, 6, 8, 33, 34, 35]\n",
    "    keep_indices = list(set(range(36)) - set(remove_indices))\n",
    "    return full_country_stats[[\"GDP per capita\", 'Life satisfaction']].iloc[keep_indices]\n",
    "\n",
    "print(\"OK\")"
   ]
  },
  {
   "cell_type": "markdown",
   "metadata": {},
   "source": [
    "The code in the book expects the data files to be located in the current directory. I just tweaked it here to fetch the files in datasets/lifesat."
   ]
  },
  {
   "cell_type": "code",
   "execution_count": 11,
   "metadata": {},
   "outputs": [
    {
     "name": "stdout",
     "output_type": "stream",
     "text": [
      " Volume in drive C is Windows\n",
      " Volume Serial Number is 0451-3530\n",
      "\n",
      " Directory of c:\\Users\\mariu\\Desktop\\6 semester\\MAL\\Opgaver\\L1-opgave\n",
      "\n",
      "01/02/2022  14.37    <DIR>          .\n",
      "01/02/2022  14.37    <DIR>          ..\n",
      "01/02/2022  14.36    <DIR>          datasets\n",
      "01/02/2022  14.42            24.177 L1-opgave.ipynb\n",
      "               1 File(s)         24.177 bytes\n",
      "               3 Dir(s)  62.406.844.416 bytes free\n",
      "\n",
      "OK\n"
     ]
    }
   ],
   "source": [
    "import os\n",
    "datapath = os.path.join(\"./datasets\", \"lifesat\", \"\")\n",
    "\n",
    "# NOTE: a ! prefix makes us able to run system commands..\n",
    "# (command 'dir' for windows, 'ls' for Linux or Macs)\n",
    "#\n",
    "\n",
    "! dir\n",
    "\n",
    "print(\"\\nOK\")"
   ]
  },
  {
   "cell_type": "code",
   "execution_count": 14,
   "metadata": {},
   "outputs": [
    {
     "data": {
      "image/png": "[encoded data removed]",
      "text/plain": [
       "<Figure size 432x288 with 1 Axes>"
      ]
     },
     "metadata": {
      "needs_background": "light"
     },
     "output_type": "display_data"
    },
    {
     "name": "stdout",
     "output_type": "stream",
     "text": [
      "[[5.96242338]]\n",
      "OK\n"
     ]
    }
   ],
   "source": [
    "# Code example\n",
    "import matplotlib\n",
    "import matplotlib.pyplot as plt\n",
    "import numpy as np\n",
    "import pandas as pd\n",
    "import sklearn.linear_model\n",
    "\n",
    "# Load the data\n",
    "try:\n",
    "    oecd_bli = pd.read_csv(datapath + \"oecd_bli_2015.csv\", thousands=',')\n",
    "    gdp_per_capita = pd.read_csv(datapath + \"gdp_per_capita.csv\",thousands=',',delimiter='\\t',\n",
    "                             encoding='latin1', na_values=\"n/a\")\n",
    "except Exception as e:\n",
    "    print(f\"SWMAL NOTE: well, you need to have the 'datasets' dir in path, please unzip 'datasets.zip' and make sure that its included in the datapath='{datapath}' setting in the cell above..\")\n",
    "    raise e\n",
    "    \n",
    "# Prepare the data\n",
    "country_stats = prepare_country_stats(oecd_bli, gdp_per_capita)\n",
    "X = np.c_[country_stats[\"GDP per capita\"]]\n",
    "y = np.c_[country_stats[\"Life satisfaction\"]]\n",
    "\n",
    "# Visualize the data\n",
    "country_stats.plot(kind='scatter', x=\"GDP per capita\", y='Life satisfaction')\n",
    "plt.show()\n",
    "\n",
    "# Select a linear model\n",
    "model = sklearn.linear_model.LinearRegression()\n",
    "\n",
    "# Train the model\n",
    "model.fit(X, y)\n",
    "\n",
    "# Make a prediction for Cyprus\n",
    "X_new = [[22587]]  # Cyprus' GDP per capita\n",
    "y_pred = model.predict(X_new)\n",
    "print(y_pred) # outputs [[ 5.96242338]]\n",
    "\n",
    "print(\"OK\")"
   ]
  },
  {
   "cell_type": "markdown",
   "metadata": {},
   "source": [
    "## SWMAL\n",
    "\n",
    "Now we plot the linear regression result.\n",
    "\n",
    "Just ignore all the data plotter code mumbo-jumbo here (code take dirclty from the notebook, [GITHOML])...and see the final plot."
   ]
  },
  {
   "cell_type": "code",
   "execution_count": 17,
   "metadata": {},
   "outputs": [
    {
     "data": {
      "image/png": "[encoded data removed]",
      "text/plain": [
       "<Figure size 360x216 with 1 Axes>"
      ]
     },
     "metadata": {
      "needs_background": "light"
     },
     "output_type": "display_data"
    },
    {
     "data": {
      "image/png": "[encoded data removed]",
      "text/plain": [
       "<Figure size 360x216 with 1 Axes>"
      ]
     },
     "metadata": {
      "needs_background": "light"
     },
     "output_type": "display_data"
    },
    {
     "name": "stdout",
     "output_type": "stream",
     "text": [
      "OK\n"
     ]
    }
   ],
   "source": [
    "oecd_bli = pd.read_csv(datapath + \"oecd_bli_2015.csv\", thousands=',')\n",
    "oecd_bli = oecd_bli[oecd_bli[\"INEQUALITY\"]==\"TOT\"]\n",
    "oecd_bli = oecd_bli.pivot(index=\"Country\", columns=\"Indicator\", values=\"Value\")\n",
    "#oecd_bli.head(2)\n",
    "\n",
    "gdp_per_capita = pd.read_csv(datapath+\"gdp_per_capita.csv\", thousands=',', delimiter='\\t',\n",
    "                             encoding='latin1', na_values=\"n/a\")\n",
    "gdp_per_capita.rename(columns={\"2015\": \"GDP per capita\"}, inplace=True)\n",
    "gdp_per_capita.set_index(\"Country\", inplace=True)\n",
    "#gdp_per_capita.head(2)\n",
    "\n",
    "full_country_stats = pd.merge(left=oecd_bli, right=gdp_per_capita, left_index=True, right_index=True)\n",
    "full_country_stats.sort_values(by=\"GDP per capita\", inplace=True)\n",
    "#full_country_stats\n",
    "\n",
    "remove_indices = [0, 1, 6, 8, 33, 34, 35]\n",
    "keep_indices = list(set(range(36)) - set(remove_indices))\n",
    "\n",
    "sample_data = full_country_stats[[\"GDP per capita\", 'Life satisfaction']].iloc[keep_indices]\n",
    "#missing_data = full_country_stats[[\"GDP per capita\", 'Life satisfaction']].iloc[remove_indices]\n",
    "\n",
    "sample_data.plot(kind='scatter', x=\"GDP per capita\", y='Life satisfaction', figsize=(5,3))\n",
    "plt.axis([0, 60000, 0, 10])\n",
    "position_text = {\n",
    "    \"Hungary\": (5000, 1),\n",
    "    \"Korea\": (18000, 1.7),\n",
    "    \"France\": (29000, 2.4),\n",
    "    \"Australia\": (40000, 3.0),\n",
    "    \"United States\": (52000, 3.8),\n",
    "}\n",
    "for country, pos_text in position_text.items():\n",
    "    pos_data_x, pos_data_y = sample_data.loc[country]\n",
    "    country = \"U.S.\" if country == \"United States\" else country\n",
    "    plt.annotate(country, xy=(pos_data_x, pos_data_y), xytext=pos_text,\n",
    "            arrowprops=dict(facecolor='black', width=0.5, shrink=0.1, headwidth=5))\n",
    "    plt.plot(pos_data_x, pos_data_y, \"ro\")\n",
    "#save_fig('money_happy_scatterplot')\n",
    "plt.show()\n",
    "\n",
    "from sklearn import linear_model\n",
    "lin1 = linear_model.LinearRegression()\n",
    "Xsample = np.c_[sample_data[\"GDP per capita\"]]\n",
    "ysample = np.c_[sample_data[\"Life satisfaction\"]]\n",
    "lin1.fit(Xsample, ysample)\n",
    "\n",
    "t0 = 4.8530528\n",
    "t1 = 4.91154459e-05\n",
    "\n",
    "sample_data.plot(kind='scatter', x=\"GDP per capita\", y='Life satisfaction', figsize=(5,3))\n",
    "plt.axis([0, 60000, 0, 10])\n",
    "M=np.linspace(0, 60000, 1000)\n",
    "plt.plot(M, t0 + t1*M, \"b\")\n",
    "plt.text(5000, 3.1, r\"$\\theta_0 = 4.85$\", fontsize=14, color=\"b\")\n",
    "plt.text(5000, 2.2, r\"$\\theta_1 = 4.91 \\times 10^{-5}$\", fontsize=14, color=\"b\")\n",
    "#save_fig('best_fit_model_plot')\n",
    "plt.show()\n",
    "\n",
    "print(\"OK\")"
   ]
  },
  {
   "cell_type": "markdown",
   "metadata": {},
   "source": [
    "## Ultra-brief Intro to the Fit-Predict Interface in Scikit-learn\n",
    "\n",
    "OK, the important lines in the cells above are really just\n",
    "```python\n",
    "#Select a linear model\n",
    "model = sklearn.linear_model.LinearRegression()\n",
    "\n",
    "# Train the model\n",
    "model.fit(X, y)\n",
    "\n",
    "# Make a prediction for Cyprus\n",
    "X_new = [[22587]]  # Cyprus' GDP per capita\n",
    "y_pred = model.predict(X_new)\n",
    "print(y_pred) # outputs [[ 5.96242338]]\n",
    "\n",
    "```\n",
    "\n",
    "What happens here is that we create  model, called LinearRegression (for now just a 100% black-box method), put in our data training $\\mathbf{X}$ matrix and corresponding desired training ground thruth vector $\\mathbf{y}$ (aka $\\mathbf{y}_{true})$, and then train the model. \n",
    "\n",
    "After training we extract a _predicted_ $\\mathbf{y}_{pred}$ vector from the model, for some input scalar $x$=22587. \n",
    "\n",
    "\n",
    "### Supervised Training via Fit-predict\n",
    "\n",
    "The train-predict (or train-fit) process on some data can be visualized as\n",
    "\n",
    "<img src=\"https://itundervisning.ase.au.dk/SWMAL/L01/Figs/supervised_learning.png\" alt=\"WARNING: could not get image from server.\" style=\"height:250px\">\n",
    "\n",
    "In this figure the untrained model is a `sklearn.linear_model.LinearRegression` python object. When trained via  `model.fit()`, using some know answers for the data, $\\mathbf{y}_{true}~$, it becomes a blue-boxed trained model.\n",
    "\n",
    "The trained model can be used to _predict_ values from new, yet-unseen, data, via the `model.predict()` function. \n",
    "\n",
    "In other words, how high is life-satisfaction for Cyprus' GDP=22587 USD?\n",
    "\n",
    "Just call `model.predict()` on a matrix with one single numerical element, 22587, well, not a matrix really, but a python list-of-lists, `[[22587]]`  \n",
    "\n",
    "```y_pred = model.predict([[22587]])```\n",
    "\n",
    "Apparently 5.96 the models answers!\n",
    "\n",
    "(you get used to the python built-in containers and numpy on the way..)"
   ]
  },
  {
   "cell_type": "markdown",
   "metadata": {},
   "source": [
    "### Qa) The $\\theta$ parameters and the $R^2$ Score\n",
    "\n",
    "GÃ©ron uses some $\\theta$ parameter from this linear regression model, in his examples and plots above.\n",
    "\n",
    "How do you extract the $\\theta_0$ and $\\theta_1$ coefficients in his life-satisfaction figure form the linear regression model, via the models python attributes?\n",
    "\n",
    "Read the documentation for the linear regressor at\n",
    "\n",
    "http://scikit-learn.org/stable/modules/generated/sklearn.linear_model.LinearRegression.html\n",
    "\n",
    "Extract the score=0.734 for the model using data (X,y) and explain what $R^2$ score measures in broad terms\n",
    "\n",
    "$$\n",
    "\\begin{array}{rcll}\n",
    "    R^2 &=& 1 - u/v\\\\\n",
    "    u   &=& \\sum (y_{true} - y_{pred}~)^2   ~~~&\\small \\mbox{residual sum of squares}\\\\\n",
    "    v   &=& \\sum (y_{true} - \\mu_{true}~)^2 ~~~&\\small \\mbox{total sum of squares}\n",
    "\\end{array}\n",
    "$$\n",
    "\n",
    "with $y_{true}~$ being the true data, $y_{pred}~$ being the predicted data from the model and $\\mu_{true}~$ being the true mean of the data.\n",
    "\n",
    "What are the minimum and maximum values for $R^2~$?\n",
    "\n",
    "Is it best to have a low $R^2$ score or a high $R^2$ score? This means, is $R^2$ a loss/cost function or a function that measures of fitness/goodness? \n",
    "\n",
    "NOTE$_1$: the $R^2$ is just one of many scoring functions used in ML, we will see plenty more other methods later.\n",
    "\n",
    "NOTE$_2$: there are different definitions of the $R^2$, 'coefficient of determination', in linear algebra. We stricly use the formulation above. \n",
    "\n",
    "OPTIONAL: Read the additional in-depth literature on $R^2~$:\n",
    "\n",
    "> https://en.wikipedia.org/wiki/Coefficient_of_determination"
   ]
  },
  {
   "cell_type": "code",
   "execution_count": 56,
   "metadata": {},
   "outputs": [
    {
     "name": "stdout",
     "output_type": "stream",
     "text": [
      "0.734441435543703\n",
      "[4.8530528]\n",
      "[[4.91154459e-05]]\n"
     ]
    }
   ],
   "source": [
    "# This is to find t0 and t1 \n",
    "X = lin1.intercept_\n",
    "Y = lin1.coef_\n",
    "\n",
    "print(X)\n",
    "print(Y)\n",
    "\n",
    "#Extract score with test data\n",
    "test_samples = pd.read_csv(datapath + \"lifesat.csv\", thousands=',')\n",
    "\n",
    "Xsample = np.c_[test_samples[\"GDP per capita\"]]\n",
    "ysample = np.c_[test_samples[\"Life satisfaction\"]]\n",
    "score = lin1.score(Xsample, ysample)\n",
    "\n",
    "print(score) #0.734\n",
    "\n",
    "# The highest score is 1.0, as in 100% of tests were predicted correctly.\n",
    "\n",
    "# It is better to have a higher score, since the maximum can be 1.0, and the minimum can be negative infinity.\n",
    "# The coefficient shows that the regression model fits the observed data ~73%. \n",
    "# The coefficient is a measure of fitness/goodness, since it describes its relation to a set of data. \n",
    "# A coefficient of 1.0, means that all data has been accounted for, it's a perfect fit. "
   ]
  },
  {
   "cell_type": "markdown",
   "metadata": {},
   "source": [
    "## The Merits of the Fit-Predict Interface\n",
    "\n",
    "Now comes the really fun part: all methods in Scikit-learn have this fit-predict interface, and you can easily interchange models in your code just by instantiating a new and perhaps better ML model.\n",
    "\n",
    "There are still a lot of per-model parameters to tune, but fortunately, the built-in default values provide you with a good initial guess for good model setup.\n",
    "\n",
    "Later on, you might want to go into the parameter detail trying to optimize some params (opening the lid of the black-box ML algo), but for now, we pretty much stick to the default values.\n",
    "\n",
    "Let's try to replace the linear regression now, let's test a _k-nearest neighbour algorithm_ instead (still black boxed algorithm-wise)...\n",
    "\n",
    "\n",
    "### Qb) Using k-Nearest Neighbors\n",
    "\n",
    "Change the linear regression model to a `sklearn.neighbors.KNeighborsRegressor` with k=3 (as in [HOML:p.22,bottom]), and rerun the `fit` and `predict` using this new model.\n",
    "\n",
    "What do the k-nearest neighbours estimate for Cyprus, compared to the linear regression (it should yield=5.77)?\n",
    "\n",
    "What _score-method_ does the k-nearest model use, and is it comparable to the linear regression model? \n",
    "\n",
    "Seek out the documentation in Scikit-learn, if the scoring methods are not equal, can they be compared to each other at all then?\n",
    "\n",
    "Remember to put pointer/text from the Sckikit-learn documentation in the journal...(did you find the right kNN model etc.)"
   ]
  },
  {
   "cell_type": "code",
   "execution_count": null,
   "metadata": {},
   "outputs": [],
   "source": [
    "# this is our raw data set:\n",
    "sample_data"
   ]
  },
  {
   "cell_type": "code",
   "execution_count": null,
   "metadata": {},
   "outputs": [],
   "source": [
    "# and this is our preprocessed data\n",
    "country_stats"
   ]
  },
  {
   "cell_type": "code",
   "execution_count": 64,
   "metadata": {},
   "outputs": [
    {
     "name": "stdout",
     "output_type": "stream",
     "text": [
      "X.shape= (29, 1)\n",
      "y.shape= (29, 1)\n"
     ]
    },
    {
     "data": {
      "image/png": "[encoded data removed]",
      "text/plain": [
       "<Figure size 432x288 with 1 Axes>"
      ]
     },
     "metadata": {
      "needs_background": "light"
     },
     "output_type": "display_data"
    },
    {
     "name": "stdout",
     "output_type": "stream",
     "text": [
      "0.8525732853499179\n"
     ]
    }
   ],
   "source": [
    "# Prepare the data\n",
    "X = np.c_[country_stats[\"GDP per capita\"]]\n",
    "y = np.c_[country_stats[\"Life satisfaction\"]]\n",
    "\n",
    "print(\"X.shape=\",X.shape)\n",
    "print(\"y.shape=\",y.shape)\n",
    "\n",
    "# Visualize the data\n",
    "country_stats.plot(kind='scatter', x=\"GDP per capita\", y='Life satisfaction')\n",
    "plt.show()\n",
    "\n",
    "# Select and train a model\n",
    "import sklearn.neighbors\n",
    "lin2 = sklearn.neighbors.KNeighborsRegressor(n_neighbors=3)\n",
    "lin2.fit(Xsample, ysample)\n",
    "lin2.predict([[22587]])\n",
    "\n",
    "#Extract score with test data\n",
    "test_samples = pd.read_csv(datapath + \"lifesat.csv\", thousands=',')\n",
    "\n",
    "Xsample = np.c_[test_samples[\"GDP per capita\"]]\n",
    "ysample = np.c_[test_samples[\"Life satisfaction\"]]\n",
    "score = lin2.score(Xsample, ysample)\n",
    "\n",
    "print(score)\n",
    "#Output is 0.85\n",
    "\n",
    "#The two scoring functions are equal, but since the models that are being trained are different,\n",
    "#The resulting score is different for the two models"
   ]
  },
  {
   "cell_type": "markdown",
   "metadata": {},
   "source": [
    "### Qc) Tuning Parameter for k-Nearest Neighbors and A Sanity Check\n",
    "\n",
    "But that not the full story. Try plotting the prediction for both models in the same graph and tune the `k_neighbor` parameter of the `KNeighborsRegressor` model.  \n",
    "\n",
    "Choosing `k_neighbor=1` produces a nice `score=1`, that seems optimal...but is it really so good?\n",
    "\n",
    "Plotting the two models in a 'Life Satisfaction-vs-GDP capita' 2D plot by creating an array in the range 0 to 60000 (USD) (the `M` matrix below) and then predict the corresponding y value will shed some light to this. \n",
    "\n",
    "Now reusing the plots stubs below, try to explain why the k-nearest neighbour with `k_neighbor=1` has such a good score.\n",
    "\n",
    "Does a score=1 with `k_neighbor=1`also mean that this would be the prefered estimator for the job?\n",
    "\n",
    "Hint here is a similar plot of a KNN for a small set of different k's:\n",
    "\n",
    "<img src=\"https://itundervisning.ase.au.dk/SWMAL/L01/Figs/regression_with_knn.png\"  alt=\"WARNING: could not get image from server.\" style=\"height:150px\">"
   ]
  },
  {
   "cell_type": "code",
   "execution_count": 69,
   "metadata": {},
   "outputs": [
    {
     "data": {
      "text/plain": [
       "[<matplotlib.lines.Line2D at 0x1866711eee0>]"
      ]
     },
     "execution_count": 69,
     "metadata": {},
     "output_type": "execute_result"
    },
    {
     "data": {
      "image/png": "[encoded data removed]",
      "text/plain": [
       "<Figure size 864x504 with 1 Axes>"
      ]
     },
     "metadata": {
      "needs_background": "light"
     },
     "output_type": "display_data"
    }
   ],
   "source": [
    "sample_data.plot(kind='scatter', x=\"GDP per capita\", y='Life satisfaction', figsize=(12,7))\n",
    "plt.axis([0, 60000, 0, 10])\n",
    "\n",
    "# create an test matrix M, with the same dimensionality as X, and in the range [0;60000] \n",
    "# and a step size of your choice\n",
    "m=np.linspace(0, 60000, 1000)\n",
    "M=np.empty([m.shape[0],1])\n",
    "M[:,0]=m\n",
    "\n",
    "lin3 = sklearn.neighbors.KNeighborsRegressor(n_neighbors=1)\n",
    "lin4 = sklearn.neighbors.KNeighborsRegressor(n_neighbors=2)\n",
    "lin3.fit(Xsample, ysample)\n",
    "lin4.fit(Xsample, ysample)\n",
    "\n",
    "# from this test M data, predict the y values via the lin.reg. and k-nearest models\n",
    "y_pred_lin = lin1.predict(M)\n",
    "y_pred_knn = lin2.predict(M)   # ASSUMING the variable name 'knn' of your KNeighborsRegressor \n",
    "y_pred_knn2 = lin3.predict(M)\n",
    "y_pred_knn3 = lin4.predict(M)   # ASSUMING the variable name 'knn' of your KNeighborsRegressor \n",
    "\n",
    "# use plt.plot to plot x-y into the sample_data plot..\n",
    "plt.plot(m, y_pred_lin, \"r\")\n",
    "plt.plot(m, y_pred_knn, \"b\")\n",
    "plt.plot(m, y_pred_knn2, \"g\")\n",
    "plt.plot(m, y_pred_knn3, \"y\")\n",
    "\n",
    "# The fewer n_neighbors, the closer the model trends towards the training points\n",
    "# n = 1 makes a perfect fit, but it's perfect for the training data and not necessarily all possible data that could end up being tested\n"
   ]
  },
  {
   "cell_type": "markdown",
   "metadata": {},
   "source": [
    "### Qd) Trying out a Neural Network\n",
    "\n",
    "Let us then try a Neural Network on the data, using the fit-predict interface allows us to replug a new model into our existing code.\n",
    "\n",
    "There are a number of different NN's available, let's just hook into Scikit-learns Multi-Layer Perceptron for regression, that is an 'MLPRegressor'. \n",
    "\n",
    "Now, the data-set for training the MLP is really not well scaled, so we need to tweak a lot of parameters in the MLP just to get it to produce some sensible output: with out preprocessing and scaling of the input data, `X`, the MLP is really a bad choice of model for the job since it so easily produces garbage output. \n",
    "\n",
    "Try training the `mlp` regression model below, predict the value for Cyprus, and find the `score` value for the training set...just as we did for the linear and KNN models.\n",
    "\n",
    "Can the `MLPRegressor` score function be compared with the linear and KNN-scores?"
   ]
  },
  {
   "cell_type": "code",
   "execution_count": 78,
   "metadata": {},
   "outputs": [
    {
     "name": "stdout",
     "output_type": "stream",
     "text": [
      "Iteration 1, loss = 40323001.39617332\n",
      "Iteration 2, loss = 38964888.82894279\n",
      "Iteration 3, loss = 37630681.63836522\n",
      "Iteration 4, loss = 36320777.97066031\n",
      "Iteration 5, loss = 35035553.13043702\n",
      "Iteration 6, loss = 33775358.03510980\n",
      "Iteration 7, loss = 32540517.77030945\n",
      "Iteration 8, loss = 31331330.25752309\n",
      "Iteration 9, loss = 30148065.04392490\n",
      "Iteration 10, loss = 28990962.22296093\n",
      "Iteration 11, loss = 27860231.49275627\n",
      "Iteration 12, loss = 26756051.35785183\n",
      "Iteration 13, loss = 25678568.47818450\n",
      "Iteration 14, loss = 24627897.16762774\n",
      "Iteration 15, loss = 23604119.04284294\n",
      "Iteration 16, loss = 22607282.82168051\n",
      "Iteration 17, loss = 21637404.26894047\n",
      "Iteration 18, loss = 20694466.28597651\n",
      "Iteration 19, loss = 19778419.13942409\n",
      "Iteration 20, loss = 18889180.82326454\n",
      "Iteration 21, loss = 18026637.54751473\n",
      "Iteration 22, loss = 17190644.34606075\n",
      "Iteration 23, loss = 16381025.79553634\n",
      "Iteration 24, loss = 15597576.83667991\n",
      "Iteration 25, loss = 14840063.68928380\n",
      "Iteration 26, loss = 14108224.85166828\n",
      "Iteration 27, loss = 13401772.17555820\n",
      "Iteration 28, loss = 12720392.00730302\n",
      "Iteration 29, loss = 12063746.38654578\n",
      "Iteration 30, loss = 11431474.29369908\n",
      "Iteration 31, loss = 10823192.93791297\n",
      "Iteration 32, loss = 10238499.07760464\n",
      "Iteration 33, loss = 9676970.36604946\n",
      "Iteration 34, loss = 9138166.71499373\n",
      "Iteration 35, loss = 8621631.66972832\n",
      "Iteration 36, loss = 8126893.78954892\n",
      "Iteration 37, loss = 7653468.02801151\n",
      "Iteration 38, loss = 7200857.10786343\n",
      "Iteration 39, loss = 6768552.88598390\n",
      "Iteration 40, loss = 6356037.70409618\n",
      "Iteration 41, loss = 5962785.72141461\n",
      "Iteration 42, loss = 5588264.22575855\n",
      "Iteration 43, loss = 5231934.92000224\n",
      "Iteration 44, loss = 4893255.18103249\n",
      "Iteration 45, loss = 4571679.28865719\n",
      "Iteration 46, loss = 4266659.62214715\n",
      "Iteration 47, loss = 3977647.82230464\n",
      "Iteration 48, loss = 3704095.91713655\n",
      "Iteration 49, loss = 3445457.40937194\n",
      "Iteration 50, loss = 3201188.32420589\n",
      "Iteration 51, loss = 2970748.21577800\n",
      "Iteration 52, loss = 2753601.13100809\n",
      "Iteration 53, loss = 2549216.52951749\n",
      "Iteration 54, loss = 2357070.15846450\n",
      "Iteration 55, loss = 2176644.88122137\n",
      "Iteration 56, loss = 2007431.45891945\n",
      "Iteration 57, loss = 1848929.28399157\n",
      "Iteration 58, loss = 1700647.06494932\n",
      "Iteration 59, loss = 1562103.46174728\n",
      "Iteration 60, loss = 1432827.67121031\n",
      "Iteration 61, loss = 1312359.96213143\n",
      "Iteration 62, loss = 1200252.15978989\n",
      "Iteration 63, loss = 1096068.07978875\n",
      "Iteration 64, loss = 999383.91127093\n",
      "Iteration 65, loss = 909788.54973833\n",
      "Iteration 66, loss = 826883.87987205\n",
      "Iteration 67, loss = 750285.00892893\n",
      "Iteration 68, loss = 679620.45147044\n",
      "Iteration 69, loss = 614532.26636155\n",
      "Iteration 70, loss = 554676.14715843\n",
      "Iteration 71, loss = 499721.46718128\n",
      "Iteration 72, loss = 449351.28074187\n",
      "Iteration 73, loss = 403262.28216046\n",
      "Iteration 74, loss = 361164.72436367\n",
      "Iteration 75, loss = 322782.29899965\n",
      "Iteration 76, loss = 287851.98014006\n",
      "Iteration 77, loss = 256123.83375590\n",
      "Iteration 78, loss = 227360.79525747\n",
      "Iteration 79, loss = 201338.41747440\n",
      "Iteration 80, loss = 177844.59152012\n",
      "Iteration 81, loss = 156679.24303592\n",
      "Iteration 82, loss = 137654.00634165\n",
      "Iteration 83, loss = 120591.87903430\n",
      "Iteration 84, loss = 105326.85957129\n",
      "Iteration 85, loss = 91703.57035382\n",
      "Iteration 86, loss = 79576.86878676\n",
      "Iteration 87, loss = 68811.44873700\n",
      "Iteration 88, loss = 59281.43474273\n",
      "Iteration 89, loss = 50869.97124237\n",
      "Iteration 90, loss = 43468.80899671\n",
      "Iteration 91, loss = 36977.89077062\n",
      "Iteration 92, loss = 31304.93822472\n",
      "Iteration 93, loss = 26365.04184344\n",
      "Iteration 94, loss = 22080.25559511\n",
      "Iteration 95, loss = 18379.19788467\n",
      "Iteration 96, loss = 15196.66022079\n",
      "Iteration 97, loss = 12473.22487882\n",
      "Iteration 98, loss = 10154.89269979\n",
      "Iteration 99, loss = 8192.72202597\n",
      "Iteration 100, loss = 6542.47963496\n",
      "Iteration 101, loss = 5164.30439970\n",
      "Iteration 102, loss = 4022.38427111\n",
      "Iteration 103, loss = 3084.64705411\n",
      "Iteration 104, loss = 2322.46532814\n",
      "Iteration 105, loss = 1710.37574999\n",
      "Iteration 106, loss = 1225.81286989\n",
      "Iteration 107, loss = 848.85749343\n",
      "Iteration 108, loss = 561.99952975\n",
      "Iteration 109, loss = 349.91518374\n",
      "Iteration 110, loss = 199.25827373\n",
      "Iteration 111, loss = 98.46538925\n",
      "Iteration 112, loss = 37.57454325\n",
      "Iteration 113, loss = 8.05692172\n",
      "Iteration 114, loss = 2.66128872\n",
      "Iteration 115, loss = 15.27056830\n",
      "Iteration 116, loss = 40.77009388\n",
      "Iteration 117, loss = 74.92699255\n",
      "Iteration 118, loss = 114.28015380\n",
      "Iteration 119, loss = 156.04022064\n",
      "Iteration 120, loss = 197.99903445\n",
      "Iteration 121, loss = 238.44796326\n",
      "Iteration 122, loss = 276.10454604\n",
      "Iteration 123, loss = 310.04689205\n",
      "Iteration 124, loss = 339.65528471\n",
      "Iteration 125, loss = 364.56045264\n",
      "Training loss did not improve more than tol=0.000010 for 10 consecutive epochs. Stopping.\n",
      "[20.96703782]\n",
      "-1129.1034281795526\n"
     ]
    },
    {
     "data": {
      "image/png": "[encoded data removed]",
      "text/plain": [
       "<Figure size 432x288 with 1 Axes>"
      ]
     },
     "metadata": {
      "needs_background": "light"
     },
     "output_type": "display_data"
    }
   ],
   "source": [
    "from sklearn.neural_network import MLPRegressor\n",
    "\n",
    "# Setup MLPRegressor\n",
    "mlp = MLPRegressor( hidden_layer_sizes=(10,), solver='adam', activation='relu', tol=1E-5, max_iter=100000, verbose=True)\n",
    "mlp.fit(X, y.ravel())\n",
    "\n",
    "# lets make a MLP regressor prediction and redo the plots\n",
    "y_pred_mlp = mlp.predict(M) \n",
    "\n",
    "plt.plot(m, y_pred_lin, \"r\")\n",
    "plt.plot(m, y_pred_knn, \"b\")\n",
    "plt.plot(m, y_pred_mlp, \"k\")\n",
    "\n",
    "print(mlp.predict([[22587]]))\n",
    "\n",
    "#Extract score with test data\n",
    "test_samples = pd.read_csv(datapath + \"lifesat.csv\", thousands=',')\n",
    "\n",
    "Xsample = np.c_[test_samples[\"GDP per capita\"]]\n",
    "ysample = np.c_[test_samples[\"Life satisfaction\"]]\n",
    "score = mlp.score(Xsample, ysample)\n",
    "print(score)"
   ]
  },
  {
   "cell_type": "markdown",
   "metadata": {},
   "source": [
    "###  [OPTIONAL] Qe) Neural Network with pre-scaling\n",
    "\n",
    "Now, the neurons in neural networks normally expects input data in the range `[0;1]` or sometimes in the range `[-1;1]`, meaning that for value outside this range the you put of the neuron will saturate to it's min or max value (also typical `0` or `1`). \n",
    "\n",
    "A concrete value of `X` is, say 22.000 USD, that is far away from what the MLP expects. To af fix to the problem in Qd) is to preprocess data by scaling it down to something more sensible.\n",
    "\n",
    "Try to scale X to a range of `[0;1]`, re-train the MLP, re-plot and find the new score from the rescaled input. Any better?"
   ]
  },
  {
   "cell_type": "code",
   "execution_count": null,
   "metadata": {},
   "outputs": [],
   "source": [
    "# TODO: add your code here..\n",
    "assert False, \"TODO: try prescale data for the MPL...any better?\""
   ]
  },
  {
   "cell_type": "markdown",
   "metadata": {},
   "source": [
    "REVISIONS||\n",
    "---------||\n",
    "2018-12-18|CEF, initial.                  \n",
    "2019-01-24|CEF, spell checked and update. \n",
    "2019-01-30|CEF, removed reset -f, did not work on all PC's. \n",
    "2019-08-20|CEF, E19 ITMAL update. \n",
    "2019-08-26|CEF, minor mod to NN exercise.\n",
    "2019-08-28|CEF, fixed dataset dir issue, datapath\"../datasets\" changed to \"./datasets\".\n",
    "2020-01-25|CEF, F20 ITMAL update.\n",
    "2020-08-06|CEF, E20 ITMAL update, minor fix of ls to dir and added exception to datasets load, udpated figs paths.\n",
    "2020-09-24|CEF, updated text to R2, Qa exe.\n",
    "2020-09-28|CEF, updated R2 and theta extraction, use python attributes, moved revision table. Added comment about MLP.\n",
    "2021-01-12|CEF, updated Qe.\n",
    "2021-02-08|CEF, added ls for Mac/Linux to dir command cell. \n",
    "2021-08-02|CEF, update to E21 ITMAL.\n",
    "2021-08-03|CEF, fixed ref to p21 => p.22.\n",
    "2022-01-25|CEF, update to F22 SWMAL.\n"
   ]
  }
 ],
 "metadata": {
  "kernelspec": {
   "display_name": "Python 3",
   "language": "python",
   "name": "python3"
  },
  "language_info": {
   "codemirror_mode": {
    "name": "ipython",
    "version": 3
   },
   "file_extension": ".py",
   "mimetype": "text/x-python",
   "name": "python",
   "nbconvert_exporter": "python",
   "pygments_lexer": "ipython3",
   "version": "3.9.7"
  },
  "nav_menu": {},
  "toc": {
   "navigate_menu": true,
   "number_sections": true,
   "sideBar": true,
   "threshold": 6,
   "toc_cell": false,
   "toc_section_display": "block",
   "toc_window_display": true
  },
  "toc_position": {
   "height": "616px",
   "left": "0px",
   "right": "20px",
   "top": "106px",
   "width": "213px"
  },
  "varInspector": {
   "cols": {
    "lenName": 16,
    "lenType": 16,
    "lenVar": 40
   },
   "kernels_config": {
    "python": {
     "delete_cmd_postfix": "",
     "delete_cmd_prefix": "del ",
     "library": "var_list.py",
     "varRefreshCmd": "print(var_dic_list())"
    },
    "r": {
     "delete_cmd_postfix": ") ",
     "delete_cmd_prefix": "rm(",
     "library": "var_list.r",
     "varRefreshCmd": "cat(var_dic_list()) "
    }
   },
   "types_to_exclude": [
    "module",
    "function",
    "builtin_function_or_method",
    "instance",
    "_Feature"
   ],
   "window_display": false
  }
 },
 "nbformat": 4,
 "nbformat_minor": 1
}
